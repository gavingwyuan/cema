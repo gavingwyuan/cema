{
 "cells": [
  {
   "cell_type": "code",
   "execution_count": 20,
   "metadata": {},
   "outputs": [],
   "source": [
    "import pickle as pkl\n",
    "import os\n",
    "import sys\n",
    "import pandas as pd\n",
    "from copy import deepcopy\n",
    "import numpy as np\n",
    "%matplotlib inline"
   ]
  },
  {
   "cell_type": "code",
   "execution_count": 21,
   "metadata": {},
   "outputs": [],
   "source": [
    "sys.path.append(\"../../../\")\n",
    "sys.path.append(\"../../../../\")\n",
    "sys.path.append(\"../../\")\n",
    "sys.path.append(\"../\")"
   ]
  },
  {
   "cell_type": "code",
   "execution_count": 22,
   "metadata": {},
   "outputs": [],
   "source": [
    "from results_processed import *\n",
    "from linear_interpolation import *"
   ]
  },
  {
   "cell_type": "code",
   "execution_count": 23,
   "metadata": {},
   "outputs": [],
   "source": []
  },
  {
   "cell_type": "markdown",
   "metadata": {
    "tags": []
   },
   "source": [
    "## get all results"
   ]
  },
  {
   "cell_type": "code",
   "execution_count": 24,
   "metadata": {},
   "outputs": [
    {
     "name": "stdout",
     "output_type": "stream",
     "text": [
      "random\n",
      "dict_keys([0])\n",
      "cema 05 partial\n",
      "dict_keys([0])\n"
     ]
    }
   ],
   "source": [
    "# path_rnd = [\"../results/german_doc/maa_dn2_itv_3_init_ep50_5_bs8/random_30/dbmdz/bert-base-german-cased_tagger_r_1_qs_random.intermediate_results.pkl\"]\n",
    "\n",
    "path_cema_05_partial = [\n",
    "                        \"../results/german_doc/maa_dn2_itv_3_init_ep50_5_bs8/cema_partial_normal_w0.5_tr_0.3_budget_30_sim_0.8/dbmdz/bert-base-german-cased_tagger_r_1_qs_cema_partial_normal.intermediate_results.pkl\",\n",
    "]\n",
    "\n",
    "\n",
    "paths = {\n",
    "#         \"random\":path_rnd,\n",
    "        \"cema 05 partial\":path_cema_05_partial,\n",
    "        }\n",
    "\n",
    "at_train_aggrevated_interval = 5\n",
    "sim_threshold = 5\n",
    "time_para = {'confirm': 1, 'revise': 4, 'delete': 1.5, 'add': 10, 'read': 0.3}\n",
    "\n",
    "experiment_results = {}\n",
    "for key in paths:\n",
    "    path = paths[key]\n",
    "    er = get_all_results(path, sim_threshold, time_para, interval=at_train_aggrevated_interval)\n",
    "    experiment_results[key] = er\n",
    "    print(key)\n",
    "    print(experiment_results[key].keys())"
   ]
  },
  {
   "cell_type": "code",
   "execution_count": null,
   "metadata": {},
   "outputs": [],
   "source": []
  },
  {
   "cell_type": "code",
   "execution_count": 25,
   "metadata": {},
   "outputs": [
    {
     "data": {
      "text/plain": [
       "'german ner_doc_itv_5_5_2_uselog_False_tr_0.3'"
      ]
     },
     "execution_count": 25,
     "metadata": {},
     "output_type": "execute_result"
    }
   ],
   "source": [
    "at_dataset = \"german ner\"        \n",
    "at_seg_level = \"doc\"\n",
    "at_test_interval = 5\n",
    "at_log_min_max = False\n",
    "at_tr = time_para[\"read\"]\n",
    "at_instance_num_a_step = 2\n",
    "at_name = \"{}_{}_itv_{}_{}_{}_uselog_{}_tr_{}\".format(at_dataset, at_seg_level, at_test_interval, at_train_aggrevated_interval, at_instance_num_a_step, at_log_min_max, at_tr)\n",
    "at_name"
   ]
  },
  {
   "cell_type": "markdown",
   "metadata": {},
   "source": [
    "## get avg f1 cost"
   ]
  },
  {
   "cell_type": "code",
   "execution_count": 26,
   "metadata": {},
   "outputs": [
    {
     "name": "stdout",
     "output_type": "stream",
     "text": [
      "random\n",
      "cema 05 partial\n",
      "random\n"
     ]
    }
   ],
   "source": [
    "cost_key = \"maa\"\n",
    "acc_key = \"micro_f1\"\n",
    "cost_dict_name = 'cost_dict'\n",
    "acc_dict_name = 'testing_f1_accuracy_acc_dict'\n",
    "\n",
    "experiments_avg_results ={}\n",
    "for key in experiment_results:\n",
    "    print(key)\n",
    "    one_er = experiment_results[key]\n",
    "    avg_results = get_avg_f1_cost(one_er, \n",
    "                        cost_key = cost_key, \n",
    "                        acc_key = acc_key, \n",
    "                        cost_dict_name = cost_dict_name, \n",
    "                        acc_dict_name = acc_dict_name,\n",
    "                        need_accumulated_cost=True)\n",
    "    experiments_avg_results[key] = avg_results\n",
    "    \n",
    "if \"random\" in experiment_results.keys():\n",
    "    for key in {\"random\":experiment_results[\"random\"]}:\n",
    "        print(key)\n",
    "        one_er = experiment_results[key]\n",
    "        avg_results = get_avg_f1_cost(one_er, \n",
    "                            cost_key = \"fma\", \n",
    "                            acc_key = acc_key, \n",
    "                            cost_dict_name = cost_dict_name, \n",
    "                            acc_dict_name = acc_dict_name)\n",
    "        experiments_avg_results[\"{}_{}\".format(key, \"fma\")] = avg_results"
   ]
  },
  {
   "cell_type": "code",
   "execution_count": null,
   "metadata": {},
   "outputs": [],
   "source": []
  },
  {
   "cell_type": "code",
   "execution_count": 27,
   "metadata": {},
   "outputs": [],
   "source": [
    "def get_plot_cost_f1(experiments_avg_results, label, cost_key, acc_key, at_dataset, at_seg_level, keep_increase = True, xlim=(0, 20000)):\n",
    "    cost_f1 = {}\n",
    "    cost_some_f1 = {}\n",
    "    plt.figure(figsize=(15, 10))\n",
    "    for key in experiments_avg_results:\n",
    "        avg_results = experiments_avg_results[key]\n",
    "        new_avg_results = deepcopy(avg_results)\n",
    "        if \"maa\" in avg_results.keys():\n",
    "            cost_key = \"maa\"\n",
    "        elif \"fma\" in avg_results.keys():\n",
    "            cost_key = \"fma\"\n",
    "        else:\n",
    "            raise NotImplementedError\n",
    "        new_avg_results[cost_key] = [cost - avg_results[cost_key][0] for cost in avg_results[cost_key]]\n",
    "        avg_results = new_avg_results\n",
    "        cost_f1[\"{}_{}\".format(key, acc_key)] = avg_results[acc_key]\n",
    "        cost_f1[\"{}_cost\".format(key)] = avg_results[cost_key]\n",
    "\n",
    "        if keep_increase:\n",
    "            avg_results = keep_increase_accuracy(avg_results, acc_key)\n",
    "\n",
    "        cost_f1[\"{}_{}_keep_increase\".format(key, acc_key)] = avg_results[acc_key]\n",
    "        cost_f1[\"{}_cost_keep_increase\".format(key)] = avg_results[cost_key]\n",
    "\n",
    "        cost_some_f1[\"{}_{}_keep_increase\".format(key, acc_key)] = []\n",
    "        cost_some_f1[\"{}_cost_keep_increase\".format(key)] = []\n",
    "        for target_f1 in [0.6, 0.65, 0.7, 0.75, 0.8, 0.9, 0.95]:\n",
    "            target_cost = linear_find_x(x_list=avg_results[cost_key], y_list=avg_results[acc_key], target_y=target_f1)\n",
    "            cost_some_f1[\"{}_{}_keep_increase\".format(key, acc_key)].append(target_f1)\n",
    "            cost_some_f1[\"{}_cost_keep_increase\".format(key)].append(target_cost)\n",
    "\n",
    "        plt.plot(avg_results[cost_key], avg_results[acc_key], '-o', label=key)\n",
    "    plt.legend(prop={'size': 20}, loc='lower right')\n",
    "    plt.title(\"{} - {} {}. F1-Cost\".format(label, at_dataset, at_seg_level), fontdict = {'fontsize' : 20})\n",
    "    plt.tick_params(axis='x', labelsize=20)\n",
    "    plt.tick_params(axis='y', labelsize=20)\n",
    "    plt.xlabel(\"Cost\", fontdict = {'fontsize' : 20})\n",
    "    plt.ylabel(acc_key, fontdict = {'fontsize' : 20})\n",
    "    plt.ylim(0, 1)\n",
    "    plt.xlim(*xlim)\n",
    "    plt.show()\n",
    "    return cost_f1, cost_some_f1"
   ]
  },
  {
   "cell_type": "code",
   "execution_count": null,
   "metadata": {
    "tags": []
   },
   "outputs": [],
   "source": []
  },
  {
   "cell_type": "markdown",
   "metadata": {},
   "source": [
    "## save results"
   ]
  },
  {
   "cell_type": "code",
   "execution_count": 28,
   "metadata": {},
   "outputs": [],
   "source": [
    "import matplotlib.pyplot as plt\n",
    "%matplotlib inline"
   ]
  },
  {
   "cell_type": "markdown",
   "metadata": {},
   "source": [
    "## f1-cost"
   ]
  },
  {
   "cell_type": "code",
   "execution_count": 29,
   "metadata": {},
   "outputs": [],
   "source": [
    "def keep_increase_accuracy(avg_results, acc_key):\n",
    "    new_avg_results = {}\n",
    "    for key in avg_results:\n",
    "        new_avg_results[key] = []\n",
    "    \n",
    "    acc_list = avg_results[acc_key]\n",
    "    max_acc = -1\n",
    "    for i in range(len(acc_list)):\n",
    "        if max_acc < acc_list[i]:\n",
    "            for key in avg_results:\n",
    "                new_avg_results[key].append(avg_results[key][i])\n",
    "            max_acc = acc_list[i]\n",
    "    return new_avg_results"
   ]
  },
  {
   "cell_type": "code",
   "execution_count": null,
   "metadata": {},
   "outputs": [],
   "source": []
  },
  {
   "cell_type": "code",
   "execution_count": 30,
   "metadata": {
    "tags": []
   },
   "outputs": [
    {
     "name": "stdout",
     "output_type": "stream",
     "text": [
      "random 0.363672417211977 0.8598080057960514\n",
      "cema 05 partial 0.363672417211977 0.8846634529548294\n",
      "random_fma 0.363672417211977 0.8598080057960514\n"
     ]
    },
    {
     "data": {
      "text/plain": [
       "Text(0, 0.5, 'micro_f1')"
      ]
     },
     "execution_count": 30,
     "metadata": {},
     "output_type": "execute_result"
    },
    {
     "data": {
      "image/png": "[encoded data removed]",
      "text/plain": [
       "<Figure size 1080x720 with 1 Axes>"
      ]
     },
     "metadata": {
      "needs_background": "light"
     },
     "output_type": "display_data"
    }
   ],
   "source": [
    "cost_f1 = {}\n",
    "cost_some_f1 = {}\n",
    "plt.figure(figsize=(15, 10))\n",
    "\n",
    "for key in experiments_avg_results:\n",
    "    \n",
    "    avg_results = experiments_avg_results[key]\n",
    "    new_avg_results = deepcopy(avg_results)\n",
    "    if \"maa\" in avg_results.keys():\n",
    "        cost_key = \"maa\"\n",
    "    elif \"fma\" in avg_results.keys():\n",
    "        cost_key = \"fma\"\n",
    "    else:\n",
    "        raise NotImplementedError\n",
    "    new_avg_results[cost_key] = [cost - avg_results[cost_key][0] for cost in avg_results[cost_key]]\n",
    "    avg_results = new_avg_results\n",
    "    cost_f1[\"{}_{}\".format(key, acc_key)] = avg_results[acc_key]\n",
    "    cost_f1[\"{}_cost\".format(key)] = avg_results[cost_key]\n",
    "    \n",
    "    avg_results = keep_increase_accuracy(avg_results, acc_key)\n",
    "    \n",
    "    cost_f1[\"{}_{}_keep_increase\".format(key, acc_key)] = avg_results[acc_key]\n",
    "    cost_f1[\"{}_cost_keep_increase\".format(key)] = avg_results[cost_key]\n",
    "    \n",
    "    cost_some_f1[\"{}_{}_keep_increase\".format(key, acc_key)] = []\n",
    "    cost_some_f1[\"{}_cost_keep_increase\".format(key)] = []\n",
    "    for target_f1 in [0.6, 0.65, 0.7, 0.75, 0.8, 0.85, 0.9, 0.95]:\n",
    "        target_cost = linear_find_x(x_list=avg_results[cost_key], y_list=avg_results[acc_key], target_y=target_f1)\n",
    "        cost_some_f1[\"{}_{}_keep_increase\".format(key, acc_key)].append(target_f1)\n",
    "        cost_some_f1[\"{}_cost_keep_increase\".format(key)].append(target_cost)\n",
    "        \n",
    "    print(key, avg_results[acc_key][0], avg_results[acc_key][-1])\n",
    "    label = key\n",
    "    plt.plot(avg_results[cost_key], avg_results[acc_key], '-o', label=label)\n",
    "        \n",
    "plt.legend(prop={'size': 20}, loc='lower right')\n",
    "plt.title(\"{} {}. F1-Cost\".format(at_dataset, at_seg_level), fontdict = {'fontsize' : 20})\n",
    "plt.tick_params(axis='x', labelsize=20)\n",
    "plt.tick_params(axis='y', labelsize=20)\n",
    "plt.xlabel(\"Cost\", fontdict = {'fontsize' : 20})\n",
    "plt.ylabel(\"{}\".format(acc_key), fontdict = {'fontsize' : 20})"
   ]
  },
  {
   "cell_type": "code",
   "execution_count": 31,
   "metadata": {},
   "outputs": [],
   "source": [
    "cost_f1_series = [pd.DataFrame({key:cost_f1[key]}) for key in cost_f1]\n",
    "pd.concat(cost_f1_series, axis=1).to_csv(\"csv/{}_cost_{}_test.csv\".format(at_name, acc_key))"
   ]
  },
  {
   "cell_type": "code",
   "execution_count": null,
   "metadata": {},
   "outputs": [],
   "source": []
  }
 ],
 "metadata": {
  "kernelspec": {
   "display_name": "Python [conda env:py37]",
   "language": "python",
   "name": "conda-env-py37-py"
  },
  "language_info": {
   "codemirror_mode": {
    "name": "ipython",
    "version": 3
   },
   "file_extension": ".py",
   "mimetype": "text/x-python",
   "name": "python",
   "nbconvert_exporter": "python",
   "pygments_lexer": "ipython3",
   "version": "3.7.10"
  }
 },
 "nbformat": 4,
 "nbformat_minor": 4
}
